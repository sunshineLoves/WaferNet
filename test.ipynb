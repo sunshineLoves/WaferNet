{
 "cells": [
  {
   "cell_type": "code",
   "id": "initial_id",
   "metadata": {
    "collapsed": true
   },
   "source": [
    "import numpy as np\n",
    "import torch\n",
    "from timm import create_model\n",
    "\n",
    "feature_extractor = create_model(\n",
    "    'resnet18',\n",
    "    pretrained=False,\n",
    "    features_only=True\n",
    ")\n",
    "feature_extractor.load_state_dict(torch.load('../pretrained/resnet18.pth'))\n",
    "\n",
    "batch_size = 5\n",
    "img = torch.randn(batch_size, 3, 256, 256)\n",
    "for i, v in enumerate(feature_extractor(img)):\n",
    "    print(f'{i} : {v.shape}')"
   ],
   "outputs": [],
   "execution_count": null
  },
  {
   "cell_type": "code",
   "source": [
    "import torch\n",
    "\n",
    "outputs = torch.randn(8, 2, 4, 4)\n",
    "flattened = torch.flatten(outputs[:, 1, :], start_dim=1)\n",
    "anomaly_score_i = torch.topk(flattened, 5)[0].mean(dim=1)\n",
    "d = np.array([1, 2, 3, 4]).reshape(2, 2)\n",
    "d = d.reshape(-1)"
   ],
   "metadata": {
    "collapsed": false
   },
   "id": "868b5acdd59b8c44",
   "outputs": [],
   "execution_count": null
  },
  {
   "metadata": {
    "ExecuteTime": {
     "end_time": "2024-03-08T15:53:18.282635Z",
     "start_time": "2024-03-08T15:53:17.510065Z"
    }
   },
   "cell_type": "code",
   "source": [
    "from torch import nn\n",
    "import torch\n",
    "encoder = nn.Sequential(\n",
    "            nn.Conv3d(1, 96, (3, 3, 3), stride=(1, 2, 2), padding=(1, 1, 1)),\n",
    "            nn.BatchNorm3d(96),\n",
    "            nn.LeakyReLU(0.2, inplace=True),\n",
    "            nn.Conv3d(96, 128, (3, 3, 3), stride=(2, 2, 2), padding=(1, 1, 1)),\n",
    "            nn.BatchNorm3d(128),\n",
    "            nn.LeakyReLU(0.2, inplace=True),\n",
    "            nn.Conv3d(128, 256, (3, 3, 3), stride=(2, 2, 2), padding=(1, 1, 1)),\n",
    "            nn.BatchNorm3d(256),\n",
    "            nn.LeakyReLU(0.2, inplace=True),\n",
    "            nn.Conv3d(256, 256, (3, 3, 3), stride=(2, 2, 2), padding=(1, 1, 1)),\n",
    "            nn.BatchNorm3d(256),\n",
    "            nn.LeakyReLU(0.2, inplace=True)\n",
    "        )\n",
    "inputs = torch.randn(3, 1, 16, 256, 256)\n",
    "code = encoder(inputs).shape"
   ],
   "id": "d0a8c6b4d7c1c9b1",
   "outputs": [],
   "execution_count": 7
  },
  {
   "metadata": {},
   "cell_type": "code",
   "outputs": [],
   "execution_count": null,
   "source": "",
   "id": "d0f5071b1416a08b"
  }
 ],
 "metadata": {
  "kernelspec": {
   "display_name": "Python 3",
   "language": "python",
   "name": "python3"
  },
  "language_info": {
   "codemirror_mode": {
    "name": "ipython",
    "version": 2
   },
   "file_extension": ".py",
   "mimetype": "text/x-python",
   "name": "python",
   "nbconvert_exporter": "python",
   "pygments_lexer": "ipython2",
   "version": "2.7.6"
  }
 },
 "nbformat": 4,
 "nbformat_minor": 5
}
