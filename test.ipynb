{
 "cells": [
  {
   "cell_type": "code",
   "execution_count": 5,
   "id": "initial_id",
   "metadata": {
    "collapsed": true,
    "ExecuteTime": {
     "end_time": "2024-03-10T10:29:05.691821Z",
     "start_time": "2024-03-10T10:29:05.428324Z"
    }
   },
   "outputs": [],
   "source": [
    "import torch\n",
    "from timm import create_model\n",
    "feature_extractor = create_model(\n",
    "        'resnet18', \n",
    "        pretrained    = False, \n",
    "        features_only = True\n",
    "    )\n",
    "feature_extractor.load_state_dict(torch.load('./pretrained/resnet18.pth'))\n",
    "img = torch.randn(, 3, 256, 256)\n",
    "feature = feature_extractor(img)"
   ]
  },
  {
   "cell_type": "code",
   "outputs": [],
   "source": [],
   "metadata": {
    "collapsed": false
   },
   "id": "835b0b179f7b36fa"
  }
 ],
 "metadata": {
  "kernelspec": {
   "display_name": "Python 3",
   "language": "python",
   "name": "python3"
  },
  "language_info": {
   "codemirror_mode": {
    "name": "ipython",
    "version": 2
   },
   "file_extension": ".py",
   "mimetype": "text/x-python",
   "name": "python",
   "nbconvert_exporter": "python",
   "pygments_lexer": "ipython2",
   "version": "2.7.6"
  }
 },
 "nbformat": 4,
 "nbformat_minor": 5
}
