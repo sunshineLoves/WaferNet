{
 "cells": [
  {
   "cell_type": "code",
   "execution_count": 2,
   "id": "initial_id",
   "metadata": {
    "collapsed": true,
    "ExecuteTime": {
     "end_time": "2024-03-06T06:21:18.382242Z",
     "start_time": "2024-03-06T06:21:17.643276Z"
    }
   },
   "outputs": [
    {
     "name": "stdout",
     "output_type": "stream",
     "text": [
      "0 : torch.Size([5, 64, 128, 128])\n",
      "1 : torch.Size([5, 64, 64, 64])\n",
      "2 : torch.Size([5, 128, 32, 32])\n",
      "3 : torch.Size([5, 256, 16, 16])\n",
      "4 : torch.Size([5, 512, 8, 8])\n"
     ]
    }
   ],
   "source": [
    "import torch\n",
    "from timm import create_model\n",
    "\n",
    "feature_extractor = create_model(\n",
    "    'resnet18',\n",
    "    pretrained=True,\n",
    "    features_only=True\n",
    ")\n",
    "feature_extractor.eval()\n",
    "batch_size = 5\n",
    "img = torch.randn(batch_size, 3, 256, 256)\n",
    "for i, v in enumerate(feature_extractor(img)):\n",
    "    print(f'{i} : {v.shape}')"
   ]
  },
  {
   "cell_type": "code",
   "outputs": [
    {
     "data": {
      "text/plain": "torch.Size([5, 2, 3])"
     },
     "execution_count": 18,
     "metadata": {},
     "output_type": "execute_result"
    }
   ],
   "source": [
    "import torch.nn.functional as F\n",
    "\n",
    "x = torch.randint(0, 5, (5, 3))\n",
    "y = torch.randint(0, 5, (5, 3))\n",
    "torch.stack([x, y],dim=1).shape"
   ],
   "metadata": {
    "collapsed": false,
    "ExecuteTime": {
     "end_time": "2024-03-06T12:05:11.175895Z",
     "start_time": "2024-03-06T12:05:11.157986Z"
    }
   },
   "id": "99839d4ff508a705",
   "execution_count": 18
  },
  {
   "cell_type": "code",
   "outputs": [],
   "source": [],
   "metadata": {
    "collapsed": false
   },
   "id": "868b5acdd59b8c44"
  }
 ],
 "metadata": {
  "kernelspec": {
   "display_name": "Python 3",
   "language": "python",
   "name": "python3"
  },
  "language_info": {
   "codemirror_mode": {
    "name": "ipython",
    "version": 2
   },
   "file_extension": ".py",
   "mimetype": "text/x-python",
   "name": "python",
   "nbconvert_exporter": "python",
   "pygments_lexer": "ipython2",
   "version": "2.7.6"
  }
 },
 "nbformat": 4,
 "nbformat_minor": 5
}
