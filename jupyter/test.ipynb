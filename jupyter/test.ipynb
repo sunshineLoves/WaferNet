{
 "cells": [
  {
   "cell_type": "code",
   "execution_count": 4,
   "id": "initial_id",
   "metadata": {
    "collapsed": true,
    "ExecuteTime": {
     "end_time": "2024-03-07T03:26:35.855408Z",
     "start_time": "2024-03-07T03:26:35.312081Z"
    }
   },
   "outputs": [
    {
     "name": "stdout",
     "output_type": "stream",
     "text": [
      "0 : torch.Size([5, 64, 128, 128])\n",
      "1 : torch.Size([5, 64, 64, 64])\n",
      "2 : torch.Size([5, 128, 32, 32])\n",
      "3 : torch.Size([5, 256, 16, 16])\n",
      "4 : torch.Size([5, 512, 8, 8])\n"
     ]
    }
   ],
   "source": [
    "import torch\n",
    "from timm import create_model\n",
    "\n",
    "feature_extractor = create_model(\n",
    "    'resnet18',\n",
    "    pretrained=False,\n",
    "    features_only=True\n",
    ")\n",
    "feature_extractor.load_state_dict(torch.load('../pretrained/resnet18.pth'))\n",
    "\n",
    "batch_size = 5\n",
    "img = torch.randn(batch_size, 3, 256, 256)\n",
    "for i, v in enumerate(feature_extractor(img)):\n",
    "    print(f'{i} : {v.shape}')"
   ]
  },
  {
   "cell_type": "code",
   "outputs": [
    {
     "data": {
      "text/plain": "tensor([[ 1.4005,  0.4685, -2.4229],\n        [ 2.6016,  0.9734, -0.0957]])"
     },
     "execution_count": 12,
     "metadata": {},
     "output_type": "execute_result"
    }
   ],
   "source": [
    "import torch\n",
    "values = [torch.randn(2, 3) for _ in range(3)]\n",
    "sum(values)"
   ],
   "metadata": {
    "collapsed": false,
    "ExecuteTime": {
     "end_time": "2024-03-07T05:28:35.804109Z",
     "start_time": "2024-03-07T05:28:35.789123Z"
    }
   },
   "id": "868b5acdd59b8c44",
   "execution_count": 12
  },
  {
   "cell_type": "code",
   "outputs": [],
   "source": [],
   "metadata": {
    "collapsed": false
   },
   "id": "d0a8c6b4d7c1c9b1"
  }
 ],
 "metadata": {
  "kernelspec": {
   "display_name": "Python 3",
   "language": "python",
   "name": "python3"
  },
  "language_info": {
   "codemirror_mode": {
    "name": "ipython",
    "version": 2
   },
   "file_extension": ".py",
   "mimetype": "text/x-python",
   "name": "python",
   "nbconvert_exporter": "python",
   "pygments_lexer": "ipython2",
   "version": "2.7.6"
  }
 },
 "nbformat": 4,
 "nbformat_minor": 5
}
